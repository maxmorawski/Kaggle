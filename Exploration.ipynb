{
 "cells": [
  {
   "cell_type": "code",
   "execution_count": 1,
   "metadata": {
    "collapsed": false,
    "scrolled": true
   },
   "outputs": [
    {
     "name": "stderr",
     "output_type": "stream",
     "text": [
      "/usr/lib/python2.7/dist-packages/matplotlib/font_manager.py:273: UserWarning: Matplotlib is building the font cache using fc-list. This may take a moment.\n",
      "  warnings.warn('Matplotlib is building the font cache using fc-list. This may take a moment.')\n"
     ]
    },
    {
     "name": "stdout",
     "output_type": "stream",
     "text": [
      "Populating the interactive namespace from numpy and matplotlib\n"
     ]
    }
   ],
   "source": [
    "%pylab inline\n",
    "import pandas as pd"
   ]
  },
  {
   "cell_type": "code",
   "execution_count": 2,
   "metadata": {
    "collapsed": true
   },
   "outputs": [],
   "source": [
    "train = pd.read_csv('data/train.csv')"
   ]
  },
  {
   "cell_type": "code",
   "execution_count": 3,
   "metadata": {
    "collapsed": false
   },
   "outputs": [
    {
     "data": {
      "text/plain": [
       "Index([u'Id', u'MSSubClass', u'MSZoning', u'LotFrontage', u'LotArea',\n",
       "       u'Street', u'Alley', u'LotShape', u'LandContour', u'Utilities',\n",
       "       u'LotConfig', u'LandSlope', u'Neighborhood', u'Condition1',\n",
       "       u'Condition2', u'BldgType', u'HouseStyle', u'OverallQual',\n",
       "       u'OverallCond', u'YearBuilt', u'YearRemodAdd', u'RoofStyle',\n",
       "       u'RoofMatl', u'Exterior1st', u'Exterior2nd', u'MasVnrType',\n",
       "       u'MasVnrArea', u'ExterQual', u'ExterCond', u'Foundation', u'BsmtQual',\n",
       "       u'BsmtCond', u'BsmtExposure', u'BsmtFinType1', u'BsmtFinSF1',\n",
       "       u'BsmtFinType2', u'BsmtFinSF2', u'BsmtUnfSF', u'TotalBsmtSF',\n",
       "       u'Heating', u'HeatingQC', u'CentralAir', u'Electrical', u'1stFlrSF',\n",
       "       u'2ndFlrSF', u'LowQualFinSF', u'GrLivArea', u'BsmtFullBath',\n",
       "       u'BsmtHalfBath', u'FullBath', u'HalfBath', u'BedroomAbvGr',\n",
       "       u'KitchenAbvGr', u'KitchenQual', u'TotRmsAbvGrd', u'Functional',\n",
       "       u'Fireplaces', u'FireplaceQu', u'GarageType', u'GarageYrBlt',\n",
       "       u'GarageFinish', u'GarageCars', u'GarageArea', u'GarageQual',\n",
       "       u'GarageCond', u'PavedDrive', u'WoodDeckSF', u'OpenPorchSF',\n",
       "       u'EnclosedPorch', u'3SsnPorch', u'ScreenPorch', u'PoolArea', u'PoolQC',\n",
       "       u'Fence', u'MiscFeature', u'MiscVal', u'MoSold', u'YrSold', u'SaleType',\n",
       "       u'SaleCondition', u'SalePrice'],\n",
       "      dtype='object')"
      ]
     },
     "execution_count": 3,
     "metadata": {},
     "output_type": "execute_result"
    }
   ],
   "source": [
    "train.columns"
   ]
  },
  {
   "cell_type": "code",
   "execution_count": 4,
   "metadata": {
    "collapsed": false
   },
   "outputs": [
    {
     "data": {
      "text/plain": [
       "(1460, 81)"
      ]
     },
     "execution_count": 4,
     "metadata": {},
     "output_type": "execute_result"
    }
   ],
   "source": [
    "train.shape"
   ]
  },
  {
   "cell_type": "code",
   "execution_count": 5,
   "metadata": {
    "collapsed": false
   },
   "outputs": [
    {
     "data": {
      "text/plain": [
       "[('Id', 'int64', 1460),\n",
       " ('MSSubClass', 'int64', 15),\n",
       " ('MSZoning', 'object', 5),\n",
       " ('LotFrontage', 'float64', 111),\n",
       " ('LotArea', 'int64', 1073),\n",
       " ('Street', 'object', 2),\n",
       " ('Alley', 'object', 3),\n",
       " ('LotShape', 'object', 4),\n",
       " ('LandContour', 'object', 4),\n",
       " ('Utilities', 'object', 2),\n",
       " ('LotConfig', 'object', 5),\n",
       " ('LandSlope', 'object', 3),\n",
       " ('Neighborhood', 'object', 25),\n",
       " ('Condition1', 'object', 9),\n",
       " ('Condition2', 'object', 8),\n",
       " ('BldgType', 'object', 5),\n",
       " ('HouseStyle', 'object', 8),\n",
       " ('OverallQual', 'int64', 10),\n",
       " ('OverallCond', 'int64', 9),\n",
       " ('YearBuilt', 'int64', 112),\n",
       " ('YearRemodAdd', 'int64', 61),\n",
       " ('RoofStyle', 'object', 6),\n",
       " ('RoofMatl', 'object', 8),\n",
       " ('Exterior1st', 'object', 15),\n",
       " ('Exterior2nd', 'object', 16),\n",
       " ('MasVnrType', 'object', 5),\n",
       " ('MasVnrArea', 'float64', 328),\n",
       " ('ExterQual', 'object', 4),\n",
       " ('ExterCond', 'object', 5),\n",
       " ('Foundation', 'object', 6),\n",
       " ('BsmtQual', 'object', 5),\n",
       " ('BsmtCond', 'object', 5),\n",
       " ('BsmtExposure', 'object', 5),\n",
       " ('BsmtFinType1', 'object', 7),\n",
       " ('BsmtFinSF1', 'int64', 637),\n",
       " ('BsmtFinType2', 'object', 7),\n",
       " ('BsmtFinSF2', 'int64', 144),\n",
       " ('BsmtUnfSF', 'int64', 780),\n",
       " ('TotalBsmtSF', 'int64', 721),\n",
       " ('Heating', 'object', 6),\n",
       " ('HeatingQC', 'object', 5),\n",
       " ('CentralAir', 'object', 2),\n",
       " ('Electrical', 'object', 6),\n",
       " ('1stFlrSF', 'int64', 753),\n",
       " ('2ndFlrSF', 'int64', 417),\n",
       " ('LowQualFinSF', 'int64', 24),\n",
       " ('GrLivArea', 'int64', 861),\n",
       " ('BsmtFullBath', 'int64', 4),\n",
       " ('BsmtHalfBath', 'int64', 3),\n",
       " ('FullBath', 'int64', 4),\n",
       " ('HalfBath', 'int64', 3),\n",
       " ('BedroomAbvGr', 'int64', 8),\n",
       " ('KitchenAbvGr', 'int64', 4),\n",
       " ('KitchenQual', 'object', 4),\n",
       " ('TotRmsAbvGrd', 'int64', 12),\n",
       " ('Functional', 'object', 7),\n",
       " ('Fireplaces', 'int64', 4),\n",
       " ('FireplaceQu', 'object', 6),\n",
       " ('GarageType', 'object', 7),\n",
       " ('GarageYrBlt', 'float64', 98),\n",
       " ('GarageFinish', 'object', 4),\n",
       " ('GarageCars', 'int64', 5),\n",
       " ('GarageArea', 'int64', 441),\n",
       " ('GarageQual', 'object', 6),\n",
       " ('GarageCond', 'object', 6),\n",
       " ('PavedDrive', 'object', 3),\n",
       " ('WoodDeckSF', 'int64', 274),\n",
       " ('OpenPorchSF', 'int64', 202),\n",
       " ('EnclosedPorch', 'int64', 120),\n",
       " ('3SsnPorch', 'int64', 20),\n",
       " ('ScreenPorch', 'int64', 76),\n",
       " ('PoolArea', 'int64', 8),\n",
       " ('PoolQC', 'object', 4),\n",
       " ('Fence', 'object', 5),\n",
       " ('MiscFeature', 'object', 5),\n",
       " ('MiscVal', 'int64', 21),\n",
       " ('MoSold', 'int64', 12),\n",
       " ('YrSold', 'int64', 5),\n",
       " ('SaleType', 'object', 9),\n",
       " ('SaleCondition', 'object', 6),\n",
       " ('SalePrice', 'int64', 663)]"
      ]
     },
     "execution_count": 5,
     "metadata": {},
     "output_type": "execute_result"
    }
   ],
   "source": [
    "zip(train.columns, map(str, train.dtypes), [len(train[c].unique()) for c in train.columns])"
   ]
  },
  {
   "cell_type": "code",
   "execution_count": 9,
   "metadata": {
    "collapsed": true
   },
   "outputs": [],
   "source": [
    "cats = [c for c,d in zip(train.columns, train.dtypes) if str(d) == 'object']"
   ]
  },
  {
   "cell_type": "code",
   "execution_count": 6,
   "metadata": {
    "collapsed": false
   },
   "outputs": [],
   "source": [
    "from sklearn.preprocessing import OneHotEncoder\n",
    "from sklearn.preprocessing import LabelEncoder\n",
    "from sklearn.pipeline import Pipeline"
   ]
  },
  {
   "cell_type": "code",
   "execution_count": 22,
   "metadata": {
    "collapsed": false
   },
   "outputs": [
    {
     "data": {
      "text/plain": [
       "array(['RL', 'RM', 'C (all)', 'FV', 'RH'], dtype=object)"
      ]
     },
     "execution_count": 22,
     "metadata": {},
     "output_type": "execute_result"
    }
   ],
   "source": [
    "train.MSZoning.unique()"
   ]
  },
  {
   "cell_type": "code",
   "execution_count": 27,
   "metadata": {
    "collapsed": true
   },
   "outputs": [],
   "source": [
    "def mkencoder(x):\n",
    "    l = LabelEncoder()\n",
    "    ld = l.fit_transform(x)\n",
    "    o = OneHotEncoder().fit(ld.reshape(-1, 1))\n",
    "    return Pipeline([('labeler', l), ('onehot', o)])"
   ]
  },
  {
   "cell_type": "code",
   "execution_count": 28,
   "metadata": {
    "collapsed": false
   },
   "outputs": [
    {
     "data": {
      "text/plain": [
       "Pipeline(steps=[('labeler', LabelEncoder()), ('onehot', OneHotEncoder(categorical_features='all', dtype=<type 'float'>,\n",
       "       handle_unknown='error', n_values='auto', sparse=True))])"
      ]
     },
     "execution_count": 28,
     "metadata": {},
     "output_type": "execute_result"
    }
   ],
   "source": [
    "mkencoder(train[cats[0]])"
   ]
  },
  {
   "cell_type": "code",
   "execution_count": 31,
   "metadata": {
    "collapsed": false
   },
   "outputs": [],
   "source": [
    "encoders = {c: mkencoder(train[c]) for c in cats}"
   ]
  },
  {
   "cell_type": "code",
   "execution_count": 42,
   "metadata": {
    "collapsed": false
   },
   "outputs": [],
   "source": [
    "X = np.concatenate([encoders[c].transform(train[[c]]).todense() for c in cats], axis=1)"
   ]
  },
  {
   "cell_type": "code",
   "execution_count": 50,
   "metadata": {
    "collapsed": false
   },
   "outputs": [
    {
     "data": {
      "text/plain": [
       "matrix([[ 0.,  0.,  0.,  0.,  0.,  0.,  0.,  0.,  0.,  0.,  0.,  0.,  0.,\n",
       "          0.,  0.,  0.,  0.,  0.,  0.,  0.,  0.,  0.,  0.,  0.,  0.,  0.,\n",
       "          0.,  0.,  0.,  0.,  0.,  0.,  0.,  0.,  0.,  0.,  0.,  0.,  0.,\n",
       "          0.,  0.,  0.,  0.,  0.,  0.,  0.,  0.,  0.,  0.,  0.,  0.,  0.,\n",
       "          0.,  0.,  0.,  0.,  0.,  0.,  0.,  0.,  0.,  0.,  0.,  0.,  0.,\n",
       "          0.,  0.,  0.,  0.,  0.,  0.,  0.,  0.,  0.,  0.,  0.,  0.,  0.,\n",
       "          0.,  0.,  0.,  0.,  0.,  0.,  0.,  0.,  0.,  0.,  0.,  0.,  0.,\n",
       "          0.,  0.,  0.,  0.,  0.,  0.,  0.,  0.,  0.,  0.,  0.,  0.,  0.,\n",
       "          0.,  0.,  0.,  0.,  0.,  0.,  0.,  0.,  0.,  0.,  0.,  0.,  0.,\n",
       "          0.,  0.,  0.,  0.,  0.,  0.,  0.,  0.,  0.,  0.,  0.,  0.,  0.,\n",
       "          0.,  0.,  0.,  0.,  0.,  0.,  0.,  0.,  0.,  0.,  0.,  0.,  0.,\n",
       "          0.,  0.,  0.,  0.,  0.,  0.,  0.,  0.,  0.,  0.,  0.,  0.,  0.,\n",
       "          0.,  0.,  0.,  0.,  0.,  0.,  0.,  0.,  0.,  0.,  0.,  0.,  0.,\n",
       "          0.,  0.,  0.,  0.,  0.,  0.,  0.,  0.,  0.,  0.,  0.,  0.,  0.,\n",
       "          0.,  0.,  0.,  0.,  0.,  0.,  0.,  0.,  0.,  0.,  0.,  0.,  0.,\n",
       "          0.,  0.,  0.,  0.,  0.,  0.,  0.,  0.,  0.,  0.,  0.,  0.,  0.,\n",
       "          0.,  0.,  0.,  0.,  0.,  0.,  0.,  0.,  0.,  0.,  0.,  0.,  0.,\n",
       "          0.,  0.,  0.,  0.,  0.,  0.,  0.,  0.,  0.,  0.,  0.,  0.,  0.,\n",
       "          0.,  0.,  0.,  0.,  0.,  0.,  0.,  0.,  0.,  0.,  0.,  0.,  0.,\n",
       "          0.,  0.,  0.,  0.,  0.,  0.,  0.,  0.,  0.,  0.,  0.,  0.,  0.,\n",
       "          0.,  0.,  0.,  0.,  0.,  0.,  0.,  0.]])"
      ]
     },
     "execution_count": 50,
     "metadata": {},
     "output_type": "execute_result"
    }
   ],
   "source": [
    "X.min(axis=0)"
   ]
  }
 ],
 "metadata": {
  "kernelspec": {
   "display_name": "Python 2",
   "language": "python",
   "name": "python2"
  },
  "language_info": {
   "codemirror_mode": {
    "name": "ipython",
    "version": 2
   },
   "file_extension": ".py",
   "mimetype": "text/x-python",
   "name": "python",
   "nbconvert_exporter": "python",
   "pygments_lexer": "ipython2",
   "version": "2.7.12"
  }
 },
 "nbformat": 4,
 "nbformat_minor": 1
}
