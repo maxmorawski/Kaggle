{
 "cells": [
  {
   "cell_type": "code",
   "execution_count": 56,
   "metadata": {
    "collapsed": false
   },
   "outputs": [],
   "source": [
    "from sklearn.ensemble import RandomForestRegressor\n",
    "from sklearn.linear_model import ElasticNet\n",
    "import pandas as pd\n",
    "from sklearn.ensemble import GradientBoostingRegressor\n",
    "from sklearn.model_selection import cross_val_score\n",
    "from collections import defaultdict\n",
    "from numpy import log, abs, sqrt, exp"
   ]
  },
  {
   "cell_type": "code",
   "execution_count": 57,
   "metadata": {
    "collapsed": true
   },
   "outputs": [],
   "source": [
    "def cross_val(clf, train, cv=5):\n",
    "    scores = cross_val_score(clf, train.drop([\"SalePrice\", \"Id\"], axis=1), train[\"SalePrice\"], cv=cv, scoring='neg_mean_squared_error', n_jobs=-1)\n",
    "    return sqrt(abs(scores)).mean()\n",
    "\n",
    "def get_onehots(df, cols):\n",
    "    \"\"\"\n",
    "    Creat a dictionary of lists, where each list corresponds to the unique\n",
    "    non-null values in a particular column of the dataframe.\n",
    "    \"\"\"\n",
    "    vals = defaultdict(list)\n",
    "    for c in cols:\n",
    "        for v in df[c].dropna().unique():\n",
    "            vals[c].append(v)\n",
    "    return dict(vals)\n",
    "\n",
    "def set_onehots(df, vals, drop=True):\n",
    "    \"\"\"\n",
    "    Take a dictionary as created by get_onehots and create one-hot encoded\n",
    "    columns for each value of each column of interest.\n",
    "    \"\"\"\n",
    "    for c in vals.keys():\n",
    "        for v in vals[c]:\n",
    "            df[c + '_' + str(v)] = df[c].apply(lambda x: 1 if x == v else 0)\n",
    "        if drop:\n",
    "            df.drop(c, inplace=True, axis=1)\n",
    "            "
   ]
  },
  {
   "cell_type": "code",
   "execution_count": 58,
   "metadata": {
    "collapsed": false
   },
   "outputs": [],
   "source": [
    "def get_data():\n",
    "    train = pd.read_csv('../data/train.csv')\n",
    "    test = pd.read_csv('../data/test.csv')\n",
    "    \n",
    "    #Log time\n",
    "    train[\"SalePrice\"] = log(train[\"SalePrice\"])\n",
    "    \n",
    "    # Get rid of the bullshit\n",
    "    train.drop(\"Id\", axis=1)\n",
    "    test.drop(\"GarageYrBlt\", axis=1)\n",
    "    train.drop(\"GarageYrBlt\", axis=1)\n",
    "    \n",
    "    # Do numerical processing on these assholes\n",
    "    ncols = [c for c, d in zip(train.columns, train.dtypes) if str(d) in [\"float64\", \"int64\"]]\n",
    "    ncols.remove(\"Id\")\n",
    "    ncols.remove(\"SalePrice\")\n",
    "    for c in ncols:\n",
    "        train[c].fillna(0, inplace=True)\n",
    "        test[c].fillna(0, inplace=True)\n",
    "    \n",
    "    cats = [c for c, d in zip(train.columns, train.dtypes) if str(d) == 'object']\n",
    "    # Turn these fuckers into strings\n",
    "\n",
    "    for c in cats:\n",
    "        train[c] = train[c].astype(str)\n",
    "        test[c] = test[c].astype(str)\n",
    "        \n",
    "    # One hot these bitches (not in a sexist way)\n",
    "    onehotvals = get_onehots(train, cats)\n",
    "    set_onehots(train, onehotvals, drop=True)\n",
    "    set_onehots(test, onehotvals, drop=True)\n",
    "    \n",
    "    \n",
    "    maxs = [train[c].max() for c in ncols]\n",
    "    mins = [train[c].min() for c in ncols]\n",
    "    for c, mx, mn in zip(ncols, maxs, mins):\n",
    "        train[c] = (train[c] - mn) / (mx - mn)\n",
    "        test[c] = (test[c] - mn) / (mx - mn)\n",
    "    \n",
    "\n",
    "    return train, test        \n",
    "\n",
    "        \n",
    "\n",
    "\n",
    "train, test = get_data()"
   ]
  },
  {
   "cell_type": "code",
   "execution_count": null,
   "metadata": {
    "collapsed": true
   },
   "outputs": [],
   "source": []
  },
  {
   "cell_type": "code",
   "execution_count": 59,
   "metadata": {
    "collapsed": false
   },
   "outputs": [
    {
     "name": "stdout",
     "output_type": "stream",
     "text": [
      "GradientBoosting\n",
      "Expected performance: 0.125798746874\n",
      "\n",
      "Elastic Net: alpha=0.00058, l1_ratio=0.73\n",
      "Expected performance: 0.132932338117\n",
      "\n",
      "RandomForest: n_estimators=100\n",
      "Expected performance: 0.143217562358\n",
      "\n"
     ]
    }
   ],
   "source": [
    "best_ratio = .73\n",
    "best_alpha = 0.00058\n",
    "\n",
    "lr = []\n",
    "\n",
    "def grad(learning_rate=0.1, n_estimators=100):\n",
    "    clf3 = GradientBoostingRegressor(learning_rate, n_estimators)\n",
    "    cv = cross_val(clf3, train)\n",
    "    return cv\n",
    "\n"
   ]
  },
  {
   "cell_type": "code",
   "execution_count": null,
   "metadata": {
    "collapsed": true
   },
   "outputs": [],
   "source": [
    "\n",
    "def elastic():\n",
    "    clf1 = ElasticNet(alpha=best_alpha, l1_ratio=best_ratio)\n",
    "    cv = cross_val(clf1, train)\n",
    "    return cv\n",
    "    #print(\"Elastic Net: alpha={}, l1_ratio={}\".format(best_alpha, best_ratio))\n",
    "    #print(\"Expected performance: {}\".format(cv))\n",
    "    #print(\"\")\n",
    "    \n",
    "def rrf():\n",
    "    clf2 = RandomForestRegressor(100)\n",
    "    cv = cross_val(clf2, train)\n",
    "    return cv\n",
    "    #print(\"RandomForest: n_estimators={}\".format(100))\n",
    "    #print(\"Expected performance: {}\".format(cv))\n",
    "    #print(\"\")"
   ]
  }
 ],
 "metadata": {
  "kernelspec": {
   "display_name": "Python 2",
   "language": "python",
   "name": "python2"
  },
  "language_info": {
   "codemirror_mode": {
    "name": "ipython",
    "version": 2
   },
   "file_extension": ".py",
   "mimetype": "text/x-python",
   "name": "python",
   "nbconvert_exporter": "python",
   "pygments_lexer": "ipython2",
   "version": "2.7.13"
  }
 },
 "nbformat": 4,
 "nbformat_minor": 2
}
