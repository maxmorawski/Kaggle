{
 "cells": [
  {
   "cell_type": "code",
   "execution_count": 2,
   "metadata": {
    "collapsed": false
   },
   "outputs": [
    {
     "name": "stdout",
     "output_type": "stream",
     "text": [
      "Populating the interactive namespace from numpy and matplotlib\n"
     ]
    }
   ],
   "source": [
    "%pylab inline\n",
    "import pandas as pd\n",
    "import sys\n",
    "sys.path.append('../src/')\n",
    "import utils\n",
    "import encode as enc"
   ]
  },
  {
   "cell_type": "code",
   "execution_count": 3,
   "metadata": {
    "collapsed": true
   },
   "outputs": [],
   "source": [
    "train = utils.get_train_data([], False)\n",
    "test = utils.get_test_data(None, [])"
   ]
  },
  {
   "cell_type": "markdown",
   "metadata": {},
   "source": [
    "## Testing numeric columns with Elastic Net"
   ]
  },
  {
   "cell_type": "code",
   "execution_count": 5,
   "metadata": {
    "collapsed": true
   },
   "outputs": [],
   "source": [
    "from sklearn.linear_model import ElasticNet"
   ]
  },
  {
   "cell_type": "code",
   "execution_count": 22,
   "metadata": {
    "collapsed": true
   },
   "outputs": [],
   "source": [
    "ncols = [c for c, d in zip(train.columns, train.dtypes) if str(d) in ['int64', 'float64']]\n",
    "ncols.remove('SalePrice')\n",
    "addback = ['Id', 'SalePrice']"
   ]
  },
  {
   "cell_type": "code",
   "execution_count": 33,
   "metadata": {
    "collapsed": false
   },
   "outputs": [],
   "source": [
    "# Test fillna modes\n",
    "res = {}\n",
    "for mode in ['zero', 'mean', 'median']:\n",
    "    trn, tst = train.copy(), test.copy()\n",
    "    trn, tst = enc.fix_numeric(trn, tst, ncols, fillna_mode=mode)\n",
    "    res[mode] = utils.run_cross_val(ElasticNet(l1_ratio=.73, alpha=.00058), trn[ncols + ['SalePrice']], cv=8)"
   ]
  },
  {
   "cell_type": "code",
   "execution_count": 34,
   "metadata": {
    "collapsed": false
   },
   "outputs": [
    {
     "data": {
      "text/plain": [
       "{'mean': 0.1539203108417157,\n",
       " 'median': 0.15392614340375607,\n",
       " 'zero': 0.1531580017962314}"
      ]
     },
     "execution_count": 34,
     "metadata": {},
     "output_type": "execute_result"
    }
   ],
   "source": [
    "res"
   ]
  },
  {
   "cell_type": "code",
   "execution_count": 35,
   "metadata": {
    "collapsed": true
   },
   "outputs": [],
   "source": [
    "# Test scaling modes\n",
    "res = {}\n",
    "for mode in ['normal', 'uniform', 'none']:\n",
    "    trn, tst = train.copy(), test.copy()\n",
    "    trn, tst = enc.fix_numeric(trn, tst, ncols, scaling=mode)\n",
    "    res[mode] = utils.run_cross_val(ElasticNet(l1_ratio=.73, alpha=.00058), trn[ncols + ['SalePrice']], cv=8)"
   ]
  },
  {
   "cell_type": "code",
   "execution_count": 36,
   "metadata": {
    "collapsed": false
   },
   "outputs": [
    {
     "data": {
      "text/plain": [
       "{'none': 0.15350751154012132,\n",
       " 'normal': 0.1531580017962314,\n",
       " 'uniform': 0.15285367502527303}"
      ]
     },
     "execution_count": 36,
     "metadata": {},
     "output_type": "execute_result"
    }
   ],
   "source": [
    "res"
   ]
  },
  {
   "cell_type": "markdown",
   "metadata": {},
   "source": [
    "## Testing categorical columns with Elastic Net"
   ]
  },
  {
   "cell_type": "code",
   "execution_count": 38,
   "metadata": {
    "collapsed": true
   },
   "outputs": [],
   "source": [
    "ccols = [c for c, d in zip(train.columns, train.dtypes) if str(d) == 'object']"
   ]
  },
  {
   "cell_type": "code",
   "execution_count": 42,
   "metadata": {
    "collapsed": false
   },
   "outputs": [],
   "source": [
    "# Test whether to include null columns\n",
    "res = {}\n",
    "for nc in [True, False]:\n",
    "    trn, tst = train.copy(), test.copy()\n",
    "    trn, tst = enc.fix_numeric(trn, tst, ncols, scaling='uniform')\n",
    "    trn, tst = enc.fix_categorical(trn, tst, 'one_hot', nc)\n",
    "    res[nc] = utils.run_cross_val(ElasticNet(l1_ratio=.73, alpha=.00058), trn, cv=8)"
   ]
  },
  {
   "cell_type": "code",
   "execution_count": 43,
   "metadata": {
    "collapsed": false
   },
   "outputs": [
    {
     "data": {
      "text/plain": [
       "{False: 0.13158821716088398, True: 0.13153808100628639}"
      ]
     },
     "execution_count": 43,
     "metadata": {},
     "output_type": "execute_result"
    }
   ],
   "source": [
    "res"
   ]
  },
  {
   "cell_type": "code",
   "execution_count": 46,
   "metadata": {
    "collapsed": true
   },
   "outputs": [],
   "source": [
    "# Test whether to one-hot encode\n",
    "res = {}\n",
    "for mode in ['one_hot', 'to_int']:\n",
    "    trn, tst = train.copy(), test.copy()\n",
    "    trn, tst = enc.fix_numeric(trn, tst, ncols, scaling='uniform')\n",
    "    trn, tst = enc.fix_categorical(trn, tst, option=mode, nullcol=True)\n",
    "    res[mode] = utils.run_cross_val(ElasticNet(l1_ratio=.73, alpha=.00058), trn, cv=8)"
   ]
  },
  {
   "cell_type": "code",
   "execution_count": 47,
   "metadata": {
    "collapsed": false
   },
   "outputs": [
    {
     "data": {
      "text/plain": [
       "{'one_hot': 0.13153808100628639, 'to_int': 0.14958650219254643}"
      ]
     },
     "execution_count": 47,
     "metadata": {},
     "output_type": "execute_result"
    }
   ],
   "source": [
    "res"
   ]
  },
  {
   "cell_type": "markdown",
   "metadata": {},
   "source": [
    "## Testing categorical columns with Random Forest"
   ]
  },
  {
   "cell_type": "code",
   "execution_count": 48,
   "metadata": {
    "collapsed": true
   },
   "outputs": [],
   "source": [
    "from sklearn.ensemble import RandomForestRegressor"
   ]
  },
  {
   "cell_type": "code",
   "execution_count": 49,
   "metadata": {
    "collapsed": true
   },
   "outputs": [],
   "source": [
    "ccols = [c for c, d in zip(train.columns, train.dtypes) if str(d) == 'object']"
   ]
  },
  {
   "cell_type": "code",
   "execution_count": 50,
   "metadata": {
    "collapsed": true
   },
   "outputs": [],
   "source": [
    "# Test whether to include null columns\n",
    "res = {}\n",
    "for nc in [True, False]:\n",
    "    trn, tst = train.copy(), test.copy()\n",
    "    trn, tst = enc.fix_numeric(trn, tst, ncols, scaling='uniform')\n",
    "    trn, tst = enc.fix_categorical(trn, tst, 'one_hot', nc)\n",
    "    res[nc] = utils.run_cross_val(RandomForestRegressor(50), trn, cv=8)"
   ]
  },
  {
   "cell_type": "code",
   "execution_count": 51,
   "metadata": {
    "collapsed": false
   },
   "outputs": [
    {
     "data": {
      "text/plain": [
       "{False: 0.14171904077426042, True: 0.14084292696661072}"
      ]
     },
     "execution_count": 51,
     "metadata": {},
     "output_type": "execute_result"
    }
   ],
   "source": [
    "res"
   ]
  },
  {
   "cell_type": "code",
   "execution_count": 52,
   "metadata": {
    "collapsed": true
   },
   "outputs": [],
   "source": [
    "# Test whether to one-hot encode\n",
    "res = {}\n",
    "for mode in ['one_hot', 'to_int']:\n",
    "    trn, tst = train.copy(), test.copy()\n",
    "    trn, tst = enc.fix_numeric(trn, tst, ncols, scaling='uniform')\n",
    "    trn, tst = enc.fix_categorical(trn, tst, option=mode, nullcol=True)\n",
    "    res[mode] = utils.run_cross_val(RandomForestRegressor(50), trn, cv=8)"
   ]
  },
  {
   "cell_type": "code",
   "execution_count": 53,
   "metadata": {
    "collapsed": false
   },
   "outputs": [
    {
     "data": {
      "text/plain": [
       "{'one_hot': 0.14084292696661072, 'to_int': 0.14455541971509378}"
      ]
     },
     "execution_count": 53,
     "metadata": {},
     "output_type": "execute_result"
    }
   ],
   "source": [
    "res"
   ]
  },
  {
   "cell_type": "markdown",
   "metadata": {},
   "source": [
    "## Testing whether we should drop a bunch of columns"
   ]
  },
  {
   "cell_type": "code",
   "execution_count": 58,
   "metadata": {
    "collapsed": false
   },
   "outputs": [],
   "source": [
    "res = {}\n",
    "for drp in [True, False]:\n",
    "    trn, tst = train.copy(), test.copy()\n",
    "    trn, tst = enc.fix_numeric(trn, tst, ncols, scaling='uniform')\n",
    "    if drp:\n",
    "        trn.drop(['Utilities', 'RoofMatl', 'MasVnrArea', 'BsmtFinSF1', 'BsmtFinSF2', 'BsmtUnfSF',\n",
    "                  'Heating', 'LowQualFinSF', 'BsmtFullBath', 'BsmtHalfBath', 'Functional',\n",
    "                  'GarageArea', 'GarageCond', 'WoodDeckSF', 'OpenPorchSF',\n",
    "                  'EnclosedPorch', '3SsnPorch', 'ScreenPorch', 'PoolArea', 'PoolQC', 'Fence',\n",
    "                  'MiscFeature', 'MiscVal'], axis=1, inplace=True)\n",
    "    trn, tst = enc.fix_categorical(trn, tst, option='one_hot', nullcol=True)\n",
    "    res[drp] = utils.run_cross_val(ElasticNet(l1_ratio=.73, alpha=.00058), trn, cv=8)"
   ]
  },
  {
   "cell_type": "code",
   "execution_count": 59,
   "metadata": {
    "collapsed": false
   },
   "outputs": [
    {
     "data": {
      "text/plain": [
       "{False: 0.13153808100628639, True: 0.13694566103699585}"
      ]
     },
     "execution_count": 59,
     "metadata": {},
     "output_type": "execute_result"
    }
   ],
   "source": [
    "res"
   ]
  }
 ],
 "metadata": {
  "kernelspec": {
   "display_name": "Python 2",
   "language": "python",
   "name": "python2"
  },
  "language_info": {
   "codemirror_mode": {
    "name": "ipython",
    "version": 2
   },
   "file_extension": ".py",
   "mimetype": "text/x-python",
   "name": "python",
   "nbconvert_exporter": "python",
   "pygments_lexer": "ipython2",
   "version": "2.7.13"
  }
 },
 "nbformat": 4,
 "nbformat_minor": 2
}
