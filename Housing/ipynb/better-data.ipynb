{
 "cells": [
  {
   "cell_type": "code",
   "execution_count": 75,
   "metadata": {
    "collapsed": false
   },
   "outputs": [
    {
     "name": "stdout",
     "output_type": "stream",
     "text": [
      "Populating the interactive namespace from numpy and matplotlib\n"
     ]
    },
    {
     "name": "stderr",
     "output_type": "stream",
     "text": [
      "/home/isaac/anaconda2/lib/python2.7/site-packages/IPython/core/magics/pylab.py:161: UserWarning: pylab import has clobbered these variables: ['test']\n",
      "`%matplotlib` prevents importing * from pylab and numpy\n",
      "  \"\\n`%matplotlib` prevents importing * from pylab and numpy\"\n"
     ]
    }
   ],
   "source": [
    "%pylab inline\n",
    "import sys\n",
    "sys.path.append('../src/')\n",
    "from utils import *"
   ]
  },
  {
   "cell_type": "code",
   "execution_count": 29,
   "metadata": {
    "collapsed": true
   },
   "outputs": [],
   "source": [
    "train = pd.read_csv('../data/train.csv')\n",
    "test = pd.read_csv('../data/test.csv')\n",
    "comb = pd.concat((train.drop('SalePrice', axis=1), test)).set_index('Id')"
   ]
  },
  {
   "cell_type": "code",
   "execution_count": 68,
   "metadata": {
    "collapsed": false
   },
   "outputs": [
    {
     "data": {
      "text/plain": [
       "['MSZoning',\n",
       " 'LotFrontage',\n",
       " 'Alley',\n",
       " 'Utilities',\n",
       " 'Exterior1st',\n",
       " 'Exterior2nd',\n",
       " 'MasVnrType',\n",
       " 'MasVnrArea',\n",
       " 'BsmtQual',\n",
       " 'BsmtCond',\n",
       " 'BsmtExposure',\n",
       " 'BsmtFinType1',\n",
       " 'BsmtFinType2',\n",
       " 'Electrical',\n",
       " 'KitchenQual',\n",
       " 'Functional',\n",
       " 'FireplaceQu',\n",
       " 'GarageType',\n",
       " 'GarageYrBlt',\n",
       " 'GarageFinish',\n",
       " 'GarageCars',\n",
       " 'GarageArea',\n",
       " 'GarageQual',\n",
       " 'GarageCond',\n",
       " 'PoolQC',\n",
       " 'Fence',\n",
       " 'MiscFeature',\n",
       " 'SaleType']"
      ]
     },
     "execution_count": 68,
     "metadata": {},
     "output_type": "execute_result"
    }
   ],
   "source": [
    "cols = list(comb.columns)\n",
    "list(comb.columns[comb.isnull().any(axis=0)])"
   ]
  },
  {
   "cell_type": "markdown",
   "metadata": {},
   "source": [
    "## Masonry Columns"
   ]
  },
  {
   "cell_type": "code",
   "execution_count": 69,
   "metadata": {
    "collapsed": false
   },
   "outputs": [
    {
     "data": {
      "text/plain": [
       "[24, 23]"
      ]
     },
     "execution_count": 69,
     "metadata": {},
     "output_type": "execute_result"
    }
   ],
   "source": [
    "mas = ['MasVnrType', 'MasVnrArea']\n",
    "[comb[m].isnull().sum() for m in mas]"
   ]
  },
  {
   "cell_type": "code",
   "execution_count": 78,
   "metadata": {
    "collapsed": false
   },
   "outputs": [
    {
     "data": {
      "image/png": "[encoded data removed]",
      "text/plain": [
       "<matplotlib.figure.Figure at 0x7f0642c55410>"
      ]
     },
     "metadata": {},
     "output_type": "display_data"
    }
   ],
   "source": [
    "hist(comb.MasVnrArea[~comb.MasVnrArea.isnull()].values, 100);"
   ]
  },
  {
   "cell_type": "code",
   "execution_count": 82,
   "metadata": {
    "collapsed": false
   },
   "outputs": [
    {
     "data": {
      "text/plain": [
       "Id\n",
       "689     BrkFace\n",
       "1242      Stone\n",
       "2320    BrkFace\n",
       "Name: MasVnrType, dtype: object"
      ]
     },
     "execution_count": 82,
     "metadata": {},
     "output_type": "execute_result"
    }
   ],
   "source": [
    "comb[(comb.MasVnrArea == 0) & ~comb.MasVnrType.isnull() & ~(comb.MasVnrType=='None')].MasVnrType"
   ]
  },
  {
   "cell_type": "code",
   "execution_count": 84,
   "metadata": {
    "collapsed": false
   },
   "outputs": [
    {
     "data": {
      "text/plain": [
       "MasVnrType\n",
       "BrkCmn     1961\n",
       "BrkFace    1990\n",
       "None       1962\n",
       "Stone      2006\n",
       "Name: YearBuilt, dtype: int64"
      ]
     },
     "execution_count": 84,
     "metadata": {},
     "output_type": "execute_result"
    }
   ],
   "source": [
    "comb.groupby('MasVnrType').YearBuilt.median()"
   ]
  },
  {
   "cell_type": "code",
   "execution_count": 72,
   "metadata": {
    "collapsed": false
   },
   "outputs": [
    {
     "data": {
      "text/plain": [
       "MSSubClass            20\n",
       "MSZoning              RL\n",
       "LotFrontage          124\n",
       "LotArea            27697\n",
       "Street              Pave\n",
       "Alley                NaN\n",
       "LotShape             Reg\n",
       "LandContour          Lvl\n",
       "Utilities         AllPub\n",
       "LotConfig         Inside\n",
       "LandSlope            Gtl\n",
       "Neighborhood     Mitchel\n",
       "Condition1          Norm\n",
       "Condition2          Norm\n",
       "BldgType            1Fam\n",
       "HouseStyle        1Story\n",
       "OverallQual            4\n",
       "OverallCond            3\n",
       "YearBuilt           1961\n",
       "YearRemodAdd        1961\n",
       "RoofStyle           Shed\n",
       "RoofMatl         CompShg\n",
       "Exterior1st      Plywood\n",
       "Exterior2nd      Plywood\n",
       "MasVnrType           NaN\n",
       "MasVnrArea           198\n",
       "ExterQual             TA\n",
       "ExterCond             TA\n",
       "Foundation        CBlock\n",
       "BsmtQual              TA\n",
       "                  ...   \n",
       "HalfBath               0\n",
       "BedroomAbvGr           3\n",
       "KitchenAbvGr           1\n",
       "KitchenQual           TA\n",
       "TotRmsAbvGrd           6\n",
       "Functional           Typ\n",
       "Fireplaces             0\n",
       "FireplaceQu          NaN\n",
       "GarageType        Attchd\n",
       "GarageYrBlt         1961\n",
       "GarageFinish         Unf\n",
       "GarageCars             1\n",
       "GarageArea           444\n",
       "GarageQual            TA\n",
       "GarageCond            Fa\n",
       "PavedDrive             Y\n",
       "WoodDeckSF           152\n",
       "OpenPorchSF           38\n",
       "EnclosedPorch          0\n",
       "3SsnPorch              0\n",
       "ScreenPorch            0\n",
       "PoolArea               0\n",
       "PoolQC               NaN\n",
       "Fence                NaN\n",
       "MiscFeature          NaN\n",
       "MiscVal                0\n",
       "MoSold                11\n",
       "YrSold              2007\n",
       "SaleType             COD\n",
       "SaleCondition    Abnorml\n",
       "Name: 2611, dtype: object"
      ]
     },
     "execution_count": 72,
     "metadata": {},
     "output_type": "execute_result"
    }
   ],
   "source": [
    "comb[comb.MasVnrType.isnull() & ~comb.MasVnrArea.isnull()].iloc[0]"
   ]
  },
  {
   "cell_type": "markdown",
   "metadata": {},
   "source": [
    "## Basement Columns"
   ]
  },
  {
   "cell_type": "code",
   "execution_count": 31,
   "metadata": {
    "collapsed": false
   },
   "outputs": [],
   "source": [
    "bsmt = [x for x in cols if 'Bsmt' in x]"
   ]
  },
  {
   "cell_type": "code",
   "execution_count": 32,
   "metadata": {
    "collapsed": false
   },
   "outputs": [
    {
     "data": {
      "text/plain": [
       "BsmtQual         True\n",
       "BsmtCond         True\n",
       "BsmtExposure     True\n",
       "BsmtFinType1     True\n",
       "BsmtFinSF1      False\n",
       "BsmtFinType2     True\n",
       "BsmtFinSF2      False\n",
       "BsmtUnfSF       False\n",
       "TotalBsmtSF     False\n",
       "BsmtFullBath    False\n",
       "BsmtHalfBath    False\n",
       "dtype: bool"
      ]
     },
     "execution_count": 32,
     "metadata": {},
     "output_type": "execute_result"
    }
   ],
   "source": [
    "train[bsmt].isnull().any(axis=0)"
   ]
  },
  {
   "cell_type": "code",
   "execution_count": 33,
   "metadata": {
    "collapsed": true
   },
   "outputs": [],
   "source": [
    "bsmtnums = ['BsmtFinSF1', 'BsmtFinSF2', 'BsmtUnfSF', 'TotalBsmtSF', 'BsmtFullBath', 'BsmtHalfBath']"
   ]
  },
  {
   "cell_type": "code",
   "execution_count": 34,
   "metadata": {
    "collapsed": false
   },
   "outputs": [],
   "source": [
    "comb[bsmtnums] = comb[bsmtnums].fillna(0)"
   ]
  },
  {
   "cell_type": "code",
   "execution_count": 35,
   "metadata": {
    "collapsed": false
   },
   "outputs": [],
   "source": [
    "bsmtna = list(comb[bsmt].columns[comb[bsmt].isnull().any(axis=0)])"
   ]
  },
  {
   "cell_type": "code",
   "execution_count": 36,
   "metadata": {
    "collapsed": false
   },
   "outputs": [
    {
     "data": {
      "text/plain": [
       "['BsmtQual', 'BsmtCond', 'BsmtExposure', 'BsmtFinType1', 'BsmtFinType2']"
      ]
     },
     "execution_count": 36,
     "metadata": {},
     "output_type": "execute_result"
    }
   ],
   "source": [
    "bsmtna"
   ]
  },
  {
   "cell_type": "code",
   "execution_count": 39,
   "metadata": {
    "collapsed": false,
    "scrolled": true
   },
   "outputs": [
    {
     "data": {
      "text/html": [
       "<div>\n",
       "<table border=\"1\" class=\"dataframe\">\n",
       "  <thead>\n",
       "    <tr style=\"text-align: right;\">\n",
       "      <th></th>\n",
       "      <th>BsmtQual</th>\n",
       "      <th>BsmtCond</th>\n",
       "      <th>BsmtExposure</th>\n",
       "      <th>BsmtFinType1</th>\n",
       "      <th>BsmtFinType2</th>\n",
       "    </tr>\n",
       "    <tr>\n",
       "      <th>Id</th>\n",
       "      <th></th>\n",
       "      <th></th>\n",
       "      <th></th>\n",
       "      <th></th>\n",
       "      <th></th>\n",
       "    </tr>\n",
       "  </thead>\n",
       "  <tbody>\n",
       "    <tr>\n",
       "      <th>333</th>\n",
       "      <td>Gd</td>\n",
       "      <td>TA</td>\n",
       "      <td>No</td>\n",
       "      <td>GLQ</td>\n",
       "      <td>NaN</td>\n",
       "    </tr>\n",
       "    <tr>\n",
       "      <th>949</th>\n",
       "      <td>Gd</td>\n",
       "      <td>TA</td>\n",
       "      <td>NaN</td>\n",
       "      <td>Unf</td>\n",
       "      <td>Unf</td>\n",
       "    </tr>\n",
       "    <tr>\n",
       "      <th>1488</th>\n",
       "      <td>Gd</td>\n",
       "      <td>TA</td>\n",
       "      <td>NaN</td>\n",
       "      <td>Unf</td>\n",
       "      <td>Unf</td>\n",
       "    </tr>\n",
       "    <tr>\n",
       "      <th>2041</th>\n",
       "      <td>Gd</td>\n",
       "      <td>NaN</td>\n",
       "      <td>Mn</td>\n",
       "      <td>GLQ</td>\n",
       "      <td>Rec</td>\n",
       "    </tr>\n",
       "    <tr>\n",
       "      <th>2186</th>\n",
       "      <td>TA</td>\n",
       "      <td>NaN</td>\n",
       "      <td>No</td>\n",
       "      <td>BLQ</td>\n",
       "      <td>Unf</td>\n",
       "    </tr>\n",
       "    <tr>\n",
       "      <th>2218</th>\n",
       "      <td>NaN</td>\n",
       "      <td>Fa</td>\n",
       "      <td>No</td>\n",
       "      <td>Unf</td>\n",
       "      <td>Unf</td>\n",
       "    </tr>\n",
       "    <tr>\n",
       "      <th>2219</th>\n",
       "      <td>NaN</td>\n",
       "      <td>TA</td>\n",
       "      <td>No</td>\n",
       "      <td>Unf</td>\n",
       "      <td>Unf</td>\n",
       "    </tr>\n",
       "    <tr>\n",
       "      <th>2349</th>\n",
       "      <td>Gd</td>\n",
       "      <td>TA</td>\n",
       "      <td>NaN</td>\n",
       "      <td>Unf</td>\n",
       "      <td>Unf</td>\n",
       "    </tr>\n",
       "    <tr>\n",
       "      <th>2525</th>\n",
       "      <td>TA</td>\n",
       "      <td>NaN</td>\n",
       "      <td>Av</td>\n",
       "      <td>ALQ</td>\n",
       "      <td>Unf</td>\n",
       "    </tr>\n",
       "  </tbody>\n",
       "</table>\n",
       "</div>"
      ],
      "text/plain": [
       "     BsmtQual BsmtCond BsmtExposure BsmtFinType1 BsmtFinType2\n",
       "Id                                                           \n",
       "333        Gd       TA           No          GLQ          NaN\n",
       "949        Gd       TA          NaN          Unf          Unf\n",
       "1488       Gd       TA          NaN          Unf          Unf\n",
       "2041       Gd      NaN           Mn          GLQ          Rec\n",
       "2186       TA      NaN           No          BLQ          Unf\n",
       "2218      NaN       Fa           No          Unf          Unf\n",
       "2219      NaN       TA           No          Unf          Unf\n",
       "2349       Gd       TA          NaN          Unf          Unf\n",
       "2525       TA      NaN           Av          ALQ          Unf"
      ]
     },
     "execution_count": 39,
     "metadata": {},
     "output_type": "execute_result"
    }
   ],
   "source": [
    "allna = comb[bsmtna].isnull().all(axis=1)\n",
    "anyna = comb[bsmtna].isnull().any(axis=1)\n",
    "comb[bsmtna][anyna & ~allna]"
   ]
  },
  {
   "cell_type": "code",
   "execution_count": 23,
   "metadata": {
    "collapsed": false
   },
   "outputs": [
    {
     "data": {
      "text/plain": [
       "BsmtExposure\n",
       "Av     58\n",
       "Gd     10\n",
       "Mn     22\n",
       "No    255\n",
       "Name: Id, dtype: int64"
      ]
     },
     "execution_count": 23,
     "metadata": {},
     "output_type": "execute_result"
    }
   ],
   "source": [
    "# Row 2349 should have BsmtExposure = 'No'\n",
    "comb[(comb.BsmtCond == 'TA') & (comb.BsmtFinType2 =='Unf') &\n",
    "     (comb.BsmtQual=='Gd') & (comb.BsmtFinType1 == 'Unf')] \\\n",
    "    .groupby('BsmtExposure').Id.count()"
   ]
  },
  {
   "cell_type": "code",
   "execution_count": 15,
   "metadata": {
    "collapsed": false
   },
   "outputs": [
    {
     "data": {
      "text/plain": [
       "BsmtExposure\n",
       "Av     58\n",
       "Gd     10\n",
       "Mn     22\n",
       "No    255\n",
       "Name: Id, dtype: int64"
      ]
     },
     "execution_count": 15,
     "metadata": {},
     "output_type": "execute_result"
    }
   ],
   "source": [
    "# BsmtExposure should probably be 'No' in rows 949 and 1488\n",
    "comb[(comb.BsmtQual == 'Gd') & (comb.BsmtCond=='TA') &\n",
    "     (comb.BsmtFinType2=='Unf') & (comb.BsmtFinType1 == 'Unf')] \\\n",
    "    .groupby('BsmtExposure').Id.count()"
   ]
  },
  {
   "cell_type": "code",
   "execution_count": 22,
   "metadata": {
    "collapsed": false
   },
   "outputs": [
    {
     "data": {
      "text/plain": [
       "BsmtQual\n",
       "Ex     20\n",
       "Fa     38\n",
       "Gd    255\n",
       "TA    304\n",
       "Name: Id, dtype: int64"
      ]
     },
     "execution_count": 22,
     "metadata": {},
     "output_type": "execute_result"
    }
   ],
   "source": [
    "# Row 2219 should have BsmtQual = 'TA'?\n",
    "comb[(comb.BsmtCond == 'TA') & (comb.BsmtFinType2 =='Unf') &\n",
    "     (comb.BsmtExposure=='No') & (comb.BsmtFinType1 == 'Unf')] \\\n",
    "    .groupby('BsmtQual').Id.count()"
   ]
  },
  {
   "cell_type": "code",
   "execution_count": 21,
   "metadata": {
    "collapsed": false
   },
   "outputs": [
    {
     "data": {
      "text/plain": [
       "BsmtQual\n",
       "Fa    13\n",
       "Gd     2\n",
       "TA    31\n",
       "Name: Id, dtype: int64"
      ]
     },
     "execution_count": 21,
     "metadata": {},
     "output_type": "execute_result"
    }
   ],
   "source": [
    "# Row 2218 should have BsmtQual = 'TA'?\n",
    "comb[(comb.BsmtCond == 'Fa') & (comb.BsmtFinType2 =='Unf') &\n",
    "     (comb.BsmtExposure=='No') & (comb.BsmtFinType1 == 'Unf')] \\\n",
    "    .groupby('BsmtQual').Id.count()"
   ]
  },
  {
   "cell_type": "code",
   "execution_count": 20,
   "metadata": {
    "collapsed": false
   },
   "outputs": [
    {
     "data": {
      "text/plain": [
       "BsmtCond\n",
       "Gd     1\n",
       "TA    28\n",
       "Name: Id, dtype: int64"
      ]
     },
     "execution_count": 20,
     "metadata": {},
     "output_type": "execute_result"
    }
   ],
   "source": [
    "# Row 2525 should have BsmtCond = 'TA'\n",
    "comb[(comb.BsmtQual == 'TA') & (comb.BsmtFinType2 =='Unf') &\n",
    "     (comb.BsmtExposure=='Av') & (comb.BsmtFinType1 == 'ALQ')] \\\n",
    "    .groupby('BsmtCond').Id.count()"
   ]
  },
  {
   "cell_type": "code",
   "execution_count": 17,
   "metadata": {
    "collapsed": false
   },
   "outputs": [
    {
     "data": {
      "text/plain": [
       "BsmtCond\n",
       "Fa      7\n",
       "Gd      2\n",
       "TA    121\n",
       "Name: Id, dtype: int64"
      ]
     },
     "execution_count": 17,
     "metadata": {},
     "output_type": "execute_result"
    }
   ],
   "source": [
    "# Row 2186 should have BsmtCond = 'TA'\n",
    "comb[(comb.BsmtQual == 'TA') & (comb.BsmtFinType2 =='Unf') &\n",
    "     (comb.BsmtExposure=='No') & (comb.BsmtFinType1 == 'BLQ')] \\\n",
    "    .groupby('BsmtCond').Id.count()"
   ]
  },
  {
   "cell_type": "code",
   "execution_count": 16,
   "metadata": {
    "collapsed": false
   },
   "outputs": [
    {
     "data": {
      "text/plain": [
       "BsmtCond\n",
       "TA    1\n",
       "Name: Id, dtype: int64"
      ]
     },
     "execution_count": 16,
     "metadata": {},
     "output_type": "execute_result"
    }
   ],
   "source": [
    "# Row 2041 should have BsmtCond = 'TA'\n",
    "comb[(comb.BsmtQual == 'Gd') & (comb.BsmtFinType2 =='Rec') &\n",
    "     (comb.BsmtExposure=='Mn') & (comb.BsmtFinType1 == 'GLQ')] \\\n",
    "    .groupby('BsmtCond').Id.count()"
   ]
  },
  {
   "cell_type": "code",
   "execution_count": 14,
   "metadata": {
    "collapsed": false
   },
   "outputs": [
    {
     "data": {
      "text/plain": [
       "BsmtFinType2\n",
       "ALQ      6\n",
       "BLQ      1\n",
       "LwQ      2\n",
       "Rec      3\n",
       "Unf    242\n",
       "Name: Id, dtype: int64"
      ]
     },
     "execution_count": 14,
     "metadata": {},
     "output_type": "execute_result"
    }
   ],
   "source": [
    "# Clearly BsmtFinType2 should be 'Unf' in row 333\n",
    "comb[(comb.BsmtQual == 'Gd') & (comb.BsmtCond=='TA') &\n",
    "     (comb.BsmtExposure=='No') & (comb.BsmtFinType1 == 'GLQ')] \\\n",
    "    .groupby('BsmtFinType2').Id.count()"
   ]
  },
  {
   "cell_type": "code",
   "execution_count": 24,
   "metadata": {
    "collapsed": true
   },
   "outputs": [],
   "source": [
    "# To summarize so far:\n",
    "# (Id, col): value\n",
    "tofill = {\n",
    "    (949, 'BsmtExposure'): 'No',\n",
    "    (1488,'BsmtExposure'): 'No',\n",
    "    (333, 'BsmtfinType2'): 'Unf',\n",
    "    (2041,'BsmtCond'):     'TA',\n",
    "    (2186,'BsmtCond'):     'TA',\n",
    "    (2525,'BsmtCond'):     'TA',\n",
    "    (2349,'BsmtExposure'): 'No',\n",
    "}"
   ]
  },
  {
   "cell_type": "code",
   "execution_count": 45,
   "metadata": {
    "collapsed": false,
    "scrolled": true
   },
   "outputs": [
    {
     "data": {
      "text/html": [
       "<div>\n",
       "<table border=\"1\" class=\"dataframe\">\n",
       "  <thead>\n",
       "    <tr style=\"text-align: right;\">\n",
       "      <th></th>\n",
       "      <th>BsmtFinSF1</th>\n",
       "      <th>BsmtFinSF2</th>\n",
       "      <th>BsmtUnfSF</th>\n",
       "      <th>TotalBsmtSF</th>\n",
       "      <th>BsmtFullBath</th>\n",
       "      <th>BsmtHalfBath</th>\n",
       "    </tr>\n",
       "    <tr>\n",
       "      <th>Id</th>\n",
       "      <th></th>\n",
       "      <th></th>\n",
       "      <th></th>\n",
       "      <th></th>\n",
       "      <th></th>\n",
       "      <th></th>\n",
       "    </tr>\n",
       "  </thead>\n",
       "  <tbody>\n",
       "    <tr>\n",
       "      <th>2218</th>\n",
       "      <td>0.0</td>\n",
       "      <td>0.0</td>\n",
       "      <td>173.0</td>\n",
       "      <td>173.0</td>\n",
       "      <td>0.0</td>\n",
       "      <td>0.0</td>\n",
       "    </tr>\n",
       "    <tr>\n",
       "      <th>2219</th>\n",
       "      <td>0.0</td>\n",
       "      <td>0.0</td>\n",
       "      <td>356.0</td>\n",
       "      <td>356.0</td>\n",
       "      <td>0.0</td>\n",
       "      <td>0.0</td>\n",
       "    </tr>\n",
       "  </tbody>\n",
       "</table>\n",
       "</div>"
      ],
      "text/plain": [
       "      BsmtFinSF1  BsmtFinSF2  BsmtUnfSF  TotalBsmtSF  BsmtFullBath  \\\n",
       "Id                                                                   \n",
       "2218         0.0         0.0      173.0        173.0           0.0   \n",
       "2219         0.0         0.0      356.0        356.0           0.0   \n",
       "\n",
       "      BsmtHalfBath  \n",
       "Id                  \n",
       "2218           0.0  \n",
       "2219           0.0  "
      ]
     },
     "execution_count": 45,
     "metadata": {},
     "output_type": "execute_result"
    }
   ],
   "source": [
    "# Still unsure: BsmtQual in 2218 and 2219\n",
    "comb.ix[[2218,2219]][bsmtnums]"
   ]
  },
  {
   "cell_type": "code",
   "execution_count": 64,
   "metadata": {
    "collapsed": false
   },
   "outputs": [
    {
     "data": {
      "text/html": [
       "<div>\n",
       "<table border=\"1\" class=\"dataframe\">\n",
       "  <thead>\n",
       "    <tr style=\"text-align: right;\">\n",
       "      <th></th>\n",
       "      <th>count</th>\n",
       "      <th>mean</th>\n",
       "    </tr>\n",
       "    <tr>\n",
       "      <th>BsmtQual</th>\n",
       "      <th></th>\n",
       "      <th></th>\n",
       "    </tr>\n",
       "  </thead>\n",
       "  <tbody>\n",
       "    <tr>\n",
       "      <th>Ex</th>\n",
       "      <td>56</td>\n",
       "      <td>1443.553571</td>\n",
       "    </tr>\n",
       "    <tr>\n",
       "      <th>Fa</th>\n",
       "      <td>60</td>\n",
       "      <td>655.500000</td>\n",
       "    </tr>\n",
       "    <tr>\n",
       "      <th>Gd</th>\n",
       "      <td>364</td>\n",
       "      <td>1048.774725</td>\n",
       "    </tr>\n",
       "    <tr>\n",
       "      <th>TA</th>\n",
       "      <td>369</td>\n",
       "      <td>877.994580</td>\n",
       "    </tr>\n",
       "  </tbody>\n",
       "</table>\n",
       "</div>"
      ],
      "text/plain": [
       "          count         mean\n",
       "BsmtQual                    \n",
       "Ex           56  1443.553571\n",
       "Fa           60   655.500000\n",
       "Gd          364  1048.774725\n",
       "TA          369   877.994580"
      ]
     },
     "execution_count": 64,
     "metadata": {},
     "output_type": "execute_result"
    }
   ],
   "source": [
    "# 'Fa' basements tend to be smaller than 'TA' basements, and these basements are small.\n",
    "# However, 'TA' basements are more common in general, and in other situations with similar\n",
    "# categoricals. Best bet is probably to label them 'TA'.\n",
    "comb[(comb.BsmtUnfSF == comb.TotalBsmtSF)] \\\n",
    "    .groupby('BsmtQual').TotalBsmtSF.agg(['count', 'mean'])"
   ]
  },
  {
   "cell_type": "code",
   "execution_count": 65,
   "metadata": {
    "collapsed": true
   },
   "outputs": [],
   "source": [
    "tofill[(2218, 'BsmtQual')] = 'TA'\n",
    "tofill[(2219, 'BsmtQual')] = 'TA'"
   ]
  },
  {
   "cell_type": "code",
   "execution_count": null,
   "metadata": {
    "collapsed": true
   },
   "outputs": [],
   "source": []
  }
 ],
 "metadata": {
  "kernelspec": {
   "display_name": "Python 2",
   "language": "python",
   "name": "python2"
  },
  "language_info": {
   "codemirror_mode": {
    "name": "ipython",
    "version": 2
   },
   "file_extension": ".py",
   "mimetype": "text/x-python",
   "name": "python",
   "nbconvert_exporter": "python",
   "pygments_lexer": "ipython2",
   "version": "2.7.13"
  }
 },
 "nbformat": 4,
 "nbformat_minor": 2
}
