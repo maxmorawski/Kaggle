{
 "cells": [
  {
   "cell_type": "code",
   "execution_count": null,
   "metadata": {
    "collapsed": false
   },
   "outputs": [],
   "source": [
    "%pylab inline\n",
    "import pandas as pd"
   ]
  },
  {
   "cell_type": "code",
   "execution_count": null,
   "metadata": {
    "collapsed": false
   },
   "outputs": [],
   "source": [
    "from collections import defaultdict"
   ]
  },
  {
   "cell_type": "code",
   "execution_count": null,
   "metadata": {
    "collapsed": true
   },
   "outputs": [],
   "source": [
    "def get_onehots(df, cols):\n",
    "    vals = defaultdict(list)\n",
    "    for c in cols:\n",
    "        for v in df[c].dropna().unique():\n",
    "            vals[c].append(v)\n",
    "    return dict(vals)\n",
    "\n",
    "def set_onehots(df, vals, drop=True):\n",
    "    for c in vals.keys():\n",
    "        for v in vals[c]:\n",
    "            df[c + '_' + str(v)] = df[c].apply(lambda x: 1 if x == v else 0)\n",
    "        if drop:\n",
    "            df.drop(c, inplace=True, axis=1)"
   ]
  },
  {
   "cell_type": "code",
   "execution_count": null,
   "metadata": {
    "collapsed": true
   },
   "outputs": [],
   "source": [
    "train = pd.read_csv('data/train.csv')\n",
    "\n",
    "cats = [c for c,d in zip(train.columns, train.dtypes) if str(d) == 'object']\n",
    "\n",
    "set(train.columns[train.isnull().any(axis=0)]) - set(cats)\n",
    "\n",
    "train.LotFrontage.fillna(0, inplace=True)\n",
    "train.MasVnrArea.fillna(0, inplace=True)\n",
    "\n",
    "onehotvals = get_onehots(train, cats)\n",
    "\n",
    "set_onehots(train, onehotvals, drop=True)"
   ]
  },
  {
   "cell_type": "code",
   "execution_count": null,
   "metadata": {
    "collapsed": false
   },
   "outputs": [],
   "source": [
    "cols = list(train.columns)\n",
    "cols.remove('SalePrice')\n",
    "cols.remove('GarageYrBlt')\n",
    "cols.remove('Id')\n",
    "cols.__len__()"
   ]
  },
  {
   "cell_type": "code",
   "execution_count": null,
   "metadata": {
    "collapsed": true
   },
   "outputs": [],
   "source": [
    "from sklearn.model_selection import cross_val_score\n",
    "\n",
    "def run_cross_val(clf, cv=8):\n",
    "    scores = cross_val_score(clf, train[cols], log(train[\"SalePrice\"]), cv=8,\n",
    "                             scoring=\"neg_mean_squared_error\")\n",
    "    return sqrt(abs(scores)).mean()"
   ]
  },
  {
   "cell_type": "code",
   "execution_count": null,
   "metadata": {
    "collapsed": false
   },
   "outputs": [],
   "source": [
    "from sklearn.linear_model import LinearRegression\n",
    "run_cross_val(LinearRegression())"
   ]
  },
  {
   "cell_type": "code",
   "execution_count": null,
   "metadata": {
    "collapsed": false
   },
   "outputs": [],
   "source": [
    "from sklearn.ensemble import RandomForestRegressor\n",
    "run_cross_val(RandomForestRegressor(n_estimators=100))"
   ]
  },
  {
   "cell_type": "code",
   "execution_count": null,
   "metadata": {
    "collapsed": false
   },
   "outputs": [],
   "source": [
    "from sklearn.linear_model import ElasticNet\n",
    "run_cross_val(ElasticNet(alpha=0.0005, l1_ratio=.95))"
   ]
  },
  {
   "cell_type": "code",
   "execution_count": null,
   "metadata": {
    "collapsed": false
   },
   "outputs": [],
   "source": [
    "logspace(log10(1), log10(3), 10)"
   ]
  },
  {
   "cell_type": "code",
   "execution_count": null,
   "metadata": {
    "collapsed": false
   },
   "outputs": [],
   "source": [
    "#alphas = [.00001, .00003, .0001, .0003, .001, .003, .01, .03]\n",
    "alphas = logspace(log10(.0003), log10(.001), 10)\n",
    "cvs = [run_cross_val(ElasticNet(alpha=a, l1_ratio=.95)) for a in alphas]\n",
    "plot(alphas, cvs, 'o')\n",
    "gca().set_xscale('log')"
   ]
  },
  {
   "cell_type": "code",
   "execution_count": null,
   "metadata": {
    "collapsed": false
   },
   "outputs": [],
   "source": [
    "trn, tst = train_test_split(train)\n",
    "clf.fit(trn[cols], log(trn.SalePrice))\n"
   ]
  },
  {
   "cell_type": "code",
   "execution_count": null,
   "metadata": {
    "collapsed": false
   },
   "outputs": [],
   "source": [
    "_p = clf.predict(tst[cols])\n",
    "sqrt(mean((_p - log(tst.SalePrice.values))**2))"
   ]
  },
  {
   "cell_type": "markdown",
   "metadata": {},
   "source": [
    "## Test for Bias vs. Variance"
   ]
  },
  {
   "cell_type": "code",
   "execution_count": null,
   "metadata": {
    "collapsed": true
   },
   "outputs": [],
   "source": [
    "from sklearn.model_selection import train_test_split\n",
    "\n",
    "def train_test_errors(df, clf, frac=0.5):\n",
    "    tst, trn = train_test_split(df, test_size=frac)\n",
    "    clf.fit(trn[cols], log(trn.SalePrice))\n",
    "    test_p = clf.predict(tst[cols])\n",
    "    train_p = clf.predict(trn[cols])\n",
    "\n",
    "    test_err = sqrt(mean((test_p - log(tst.SalePrice.values))**2))\n",
    "    train_err = sqrt(mean((train_p - log(trn.SalePrice.values))**2))\n",
    "    return train_err, test_err"
   ]
  },
  {
   "cell_type": "markdown",
   "metadata": {},
   "source": [
    "#### Random forest and linear regression are both clearly overfitting our data. "
   ]
  },
  {
   "cell_type": "code",
   "execution_count": null,
   "metadata": {
    "collapsed": false
   },
   "outputs": [],
   "source": [
    "clf = RandomForestRegressor(n_estimators=100)\n",
    "map(mean, zip(*[train_test_errors(train, clf) for _ in range(5)]))"
   ]
  },
  {
   "cell_type": "code",
   "execution_count": null,
   "metadata": {
    "collapsed": false
   },
   "outputs": [],
   "source": [
    "clf = LinearRegression()\n",
    "map(mean, zip(*[train_test_errors(train, clf) for _ in range(5)]))"
   ]
  },
  {
   "cell_type": "code",
   "execution_count": null,
   "metadata": {
    "collapsed": false
   },
   "outputs": [],
   "source": [
    "from sklearn.linear_model import ElasticNet\n",
    "clf = ElasticNet(l1_ratio=.95, alpha=.0005)\n",
    "map(mean, zip(*[train_test_errors(train, clf) for _ in range(5)]))"
   ]
  },
  {
   "cell_type": "markdown",
   "metadata": {},
   "source": [
    "## Build a submission"
   ]
  },
  {
   "cell_type": "code",
   "execution_count": null,
   "metadata": {
    "collapsed": true
   },
   "outputs": [],
   "source": [
    "clf = ElasticNet(l1_ratio=.95, alpha=.0005)"
   ]
  },
  {
   "cell_type": "code",
   "execution_count": null,
   "metadata": {
    "collapsed": false
   },
   "outputs": [],
   "source": [
    "test = pd.read_csv('data/test.csv')\n",
    "test.drop('GarageYrBlt', axis=1, inplace=True)\n",
    "set_onehots(test, onehotvals, drop=True)\n",
    "\n",
    "test.LotFrontage.fillna(0, inplace=True)\n",
    "test.MasVnrArea.fillna(0, inplace=True)\n",
    "test.BsmtFinSF1.fillna(0, inplace=True)\n",
    "test.BsmtFinSF2.fillna(0, inplace=True)\n",
    "test.BsmtUnfSF.fillna(0, inplace=True)\n",
    "test.TotalBsmtSF.fillna(0, inplace=True)\n",
    "test.BsmtFullBath.fillna(0, inplace=True)\n",
    "test.BsmtHalfBath.fillna(0, inplace=True)\n",
    "test.GarageCars.fillna(0, inplace=True)\n",
    "test.GarageArea.fillna(0, inplace=True)\n",
    "\n",
    "assert(cols == list(test.columns)[1:])"
   ]
  },
  {
   "cell_type": "code",
   "execution_count": null,
   "metadata": {
    "collapsed": false
   },
   "outputs": [],
   "source": [
    "clf.fit(train[cols], log(train['SalePrice']))"
   ]
  },
  {
   "cell_type": "code",
   "execution_count": null,
   "metadata": {
    "collapsed": false
   },
   "outputs": [],
   "source": [
    "pred = clf.predict(test[cols])"
   ]
  },
  {
   "cell_type": "code",
   "execution_count": null,
   "metadata": {
    "collapsed": false
   },
   "outputs": [],
   "source": [
    "sub = pd.DataFrame({'Id': test.Id, 'SalePrice': exp(pred)})"
   ]
  },
  {
   "cell_type": "code",
   "execution_count": null,
   "metadata": {
    "collapsed": true
   },
   "outputs": [],
   "source": [
    "sub.to_csv('data/submission2.csv', index=False)"
   ]
  }
 ],
 "metadata": {
  "kernelspec": {
   "display_name": "Python 2",
   "language": "python",
   "name": "python2"
  },
  "language_info": {
   "codemirror_mode": {
    "name": "ipython",
    "version": 2
   },
   "file_extension": ".py",
   "mimetype": "text/x-python",
   "name": "python",
   "nbconvert_exporter": "python",
   "pygments_lexer": "ipython2",
   "version": "2.7.12"
  }
 },
 "nbformat": 4,
 "nbformat_minor": 2
}
